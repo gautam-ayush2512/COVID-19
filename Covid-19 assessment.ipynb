{
 "cells": [
  {
   "cell_type": "code",
   "execution_count": 2,
   "metadata": {},
   "outputs": [
    {
     "name": "stdout",
     "output_type": "stream",
     "text": [
      "Please Enter Your Age 18\n",
      "Enter y for Yes and n for No for the following symptoms:\n",
      "Do you have chest pain?y\n",
      "Do you have any problem in breathing?y\n",
      "Do you have problem in speaking and movement?y\n",
      "Do you have any kind of headache?y\n",
      "Are you unable to taste or smell things?y\n",
      "Do you have any rash on skin?y\n",
      "Do you have any kind of aches and pains?y\n",
      "Do you have sore throat?y\n",
      "All okay but it is advised that you may go for a 14 days Home-Quarantine\n"
     ]
    }
   ],
   "source": [
    "age=int(input(\"Please Enter Your Age \"))\n",
    "print(\"Enter y for Yes and n for No for the following symptoms:\")\n",
    "\n",
    "q1=input(\"Do you have chest pain?\")\n",
    "q2=input(\"Do you have any problem in breathing?\")\n",
    "q3=input(\"Do you have problem in speaking and movement?\")\n",
    "q4=input(\"Do you have any kind of headache?\")\n",
    "q5=input(\"Are you unable to taste or smell things?\")\n",
    "q6=input(\"Do you have any rash on skin?\" )\n",
    "q7=input(\"Do you have any kind of aches and pains?\")\n",
    "q8=input(\"Do you have sore throat?\")\n",
    "\n",
    "if(age>60) and ((q1=='y') or (q2=='y') or (q3=='y')):\n",
    "    print('You have high chances of having COVID-19. It is advised that you must visit a doctor.')\n",
    "elif(age>60) and ((q4=='y') or (q5=='y') or (q6=='y') or (q7=='y') or (q8=='y')):\n",
    "    print('Less chances of having COVID-19 but still you should visit a Doctor once.')\n",
    "elif(age<60) and ((q4=='y') or (q5=='y') or (q6=='y') or (q7=='y') or (q8=='y')):\n",
    "    print('All okay but it is advised that you may go for a 14 days Home-Quarantine')\n",
    "else:\n",
    "    print(\"No problems at all. You're fit and fine.\")"
   ]
  },
  {
   "cell_type": "code",
   "execution_count": null,
   "metadata": {},
   "outputs": [],
   "source": []
  }
 ],
 "metadata": {
  "kernelspec": {
   "display_name": "Python 3",
   "language": "python",
   "name": "python3"
  },
  "language_info": {
   "codemirror_mode": {
    "name": "ipython",
    "version": 3
   },
   "file_extension": ".py",
   "mimetype": "text/x-python",
   "name": "python",
   "nbconvert_exporter": "python",
   "pygments_lexer": "ipython3",
   "version": "3.7.6"
  }
 },
 "nbformat": 4,
 "nbformat_minor": 4
}
