{
 "cells": [
  {
   "cell_type": "code",
   "execution_count": 1,
   "metadata": {},
   "outputs": [
    {
     "name": "stdout",
     "output_type": "stream",
     "text": [
      "Hi, Welcome to this Covid assessment\n",
      "Enter name:Ayush\n",
      "Enter Age:19\n",
      "Hi  Ayush , Answer the following question:\n",
      "Do you feel the following symptoms. If yes then type Y, If not then tap N : \n",
      "1)Sore Throat 2) High Fever 3)Dry Cough 4) Dificulty in Breathing\n",
      "Type Y or N :Y\n",
      "It is possible that you're infected by Covid-19. It is an advice that you must visit to your nearest Hospital and have your tests done. Thank You & Take Care\n"
     ]
    }
   ],
   "source": [
    "print(\"Hi, Welcome to this Covid assessment\")\n",
    "name=input(\"Enter name:\")\n",
    "age=int(input(\"Enter Age:\"))\n",
    "print(\"Hi \",name,\", Answer the following question:\")\n",
    "print(\"Do you feel the following symptoms. If yes then type Y, If not then tap N : \")\n",
    "print(\"1)Sore Throat 2) High Fever 3)Dry Cough 4) Dificulty in Breathing\")\n",
    "query=input(\"Type Y or N :\")\n",
    "if query=='Y':\n",
    "    print(\"It is possible that you're infected by Covid-19. It is an advice that you must visit to your nearest Hospital and have your tests done. Thank You & Take Care\")\n",
    "else:\n",
    "    print(\"It doesn't seem that you're infected by Corona Virus. Stay Safe.\")"
   ]
  },
  {
   "cell_type": "code",
   "execution_count": null,
   "metadata": {},
   "outputs": [],
   "source": []
  }
 ],
 "metadata": {
  "kernelspec": {
   "display_name": "Python 3",
   "language": "python",
   "name": "python3"
  },
  "language_info": {
   "codemirror_mode": {
    "name": "ipython",
    "version": 3
   },
   "file_extension": ".py",
   "mimetype": "text/x-python",
   "name": "python",
   "nbconvert_exporter": "python",
   "pygments_lexer": "ipython3",
   "version": "3.7.6"
  }
 },
 "nbformat": 4,
 "nbformat_minor": 4
}
